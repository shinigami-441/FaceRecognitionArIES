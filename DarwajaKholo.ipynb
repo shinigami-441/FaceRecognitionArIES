{
 "cells": [
  {
   "cell_type": "code",
   "execution_count": null,
   "metadata": {},
   "outputs": [],
   "source": [
    "import tensorflow as tf\n",
    "from keras.preprocessing.image import ImageDataGenerator"
   ]
  },
  {
   "cell_type": "code",
   "execution_count": null,
   "metadata": {},
   "outputs": [],
   "source": [
    "#We are preprocessing the images in this step so that our model is not overfitted \n",
    "#by rotating, zooming, flipping, rescaling the images in the training set.\n",
    "train_datagen = ImageDataGenerator(rescale = 1./255,\n",
    "                                   shear_range = 0.2,\n",
    "                                   zoom_range = 0.2,\n",
    "                                   horizontal_flip = True)\n",
    "#Here we are importing the images from a directory and resizing it in ordedr to reduce the computations.\n",
    "#We are also creating batches in the dataset in this step.\n",
    "training_set = train_datagen.flow_from_directory('dataset/training_set',\n",
    "                                                 target_size = (64, 64),\n",
    "                                                 batch_size = 32,\n",
    "                                                 class_mode = 'binary')\n",
    "                                                 #the dataset/training_set is the directory from which we import the training dataset\n",
    "\n",
    "#Preprocessing the test set\n",
    "test_datagen = ImageDataGenerator(rescale=1./255)\n",
    "test_set = test_datagen.flow_from_directory('dataset/test_set',\n",
    "                                            target_size = (64, 64),\n",
    "                                             batch_size = 32,\n",
    "                                             class_mode = 'binary'\n",
    "    \n",
    ")"
   ]
  }
 ],
 "metadata": {
  "language_info": {
   "name": "python"
  },
  "orig_nbformat": 4
 },
 "nbformat": 4,
 "nbformat_minor": 2
}
